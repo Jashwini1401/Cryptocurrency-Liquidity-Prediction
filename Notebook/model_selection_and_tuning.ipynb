{
 "cells": [
  {
   "cell_type": "code",
   "execution_count": 1,
   "id": "766308a6",
   "metadata": {},
   "outputs": [
    {
     "name": "stdout",
     "output_type": "stream",
     "text": [
      "Best hyperparameters: {'max_depth': 10, 'max_features': None, 'min_samples_leaf': 1, 'min_samples_split': 2, 'n_estimators': 150}\n",
      "Test MSE: 4.7741\n",
      "Test R²: 0.7621\n",
      "Model saved at: ..\\model\\best_random_forest_model.pkl\n"
     ]
    }
   ],
   "source": [
    "# 📦 Import Libraries\n",
    "import pandas as pd\n",
    "import numpy as np\n",
    "import os\n",
    "import joblib\n",
    "\n",
    "from sklearn.model_selection import train_test_split, GridSearchCV\n",
    "from sklearn.preprocessing import StandardScaler\n",
    "from sklearn.ensemble import RandomForestRegressor\n",
    "from sklearn.metrics import mean_squared_error, r2_score\n",
    "\n",
    "# 📂 Load Engineered Data\n",
    "data_path = os.path.join(\"..\", \"data\", \"cleaned\", \"feature_engineered_data.csv\")\n",
    "df = pd.read_csv(data_path)\n",
    "\n",
    "# 🎯 Target and Features\n",
    "target_col = 'liquidity_ratio_7d'\n",
    "features = df.drop(columns=['date', 'coin', target_col], errors='ignore').select_dtypes(include=[np.number])\n",
    "X = features\n",
    "y = df[target_col]\n",
    "\n",
    "# 🔍 Check for Inf and NaN\n",
    "X.replace([np.inf, -np.inf], np.nan, inplace=True)\n",
    "X.dropna(inplace=True)\n",
    "y = y[X.index]  # Align target with X\n",
    "\n",
    "# 🧼 Scaling\n",
    "scaler = StandardScaler()\n",
    "X_scaled = scaler.fit_transform(X)\n",
    "\n",
    "# 🧪 Split Data\n",
    "X_train, X_test, y_train, y_test = train_test_split(X_scaled, y, test_size=0.2, random_state=42)\n",
    "\n",
    "# 🔧 Define Model & Grid\n",
    "rf = RandomForestRegressor(random_state=42)\n",
    "param_grid = {\n",
    "    'n_estimators': [100, 150, 200],\n",
    "    'max_depth': [None, 10, 20],\n",
    "    'min_samples_split': [2, 5],\n",
    "    'min_samples_leaf': [1, 2],\n",
    "    'max_features': [None, 'sqrt']\n",
    "}\n",
    "\n",
    "# 🧵 Grid Search\n",
    "grid = GridSearchCV(rf, param_grid, cv=5, scoring='r2', n_jobs=-1)\n",
    "grid.fit(X_train, y_train)\n",
    "\n",
    "# ✅ Best Model\n",
    "best_model = grid.best_estimator_\n",
    "print(\"Best hyperparameters:\", grid.best_params_)\n",
    "\n",
    "# 📊 Evaluate\n",
    "y_pred = best_model.predict(X_test)\n",
    "mse = mean_squared_error(y_test, y_pred)\n",
    "r2 = r2_score(y_test, y_pred)\n",
    "\n",
    "print(f\"Test MSE: {mse:.4f}\")\n",
    "print(f\"Test R²: {r2:.4f}\")\n",
    "\n",
    "# 💾 Save Model\n",
    "model_output_path = os.path.join(\"..\", \"model\", \"best_random_forest_model.pkl\")\n",
    "os.makedirs(os.path.dirname(model_output_path), exist_ok=True)\n",
    "joblib.dump(best_model, model_output_path)\n",
    "print(f\"Model saved at: {model_output_path}\")\n"
   ]
  },
  {
   "cell_type": "code",
   "execution_count": null,
   "id": "4dedb6cd",
   "metadata": {},
   "outputs": [],
   "source": []
  }
 ],
 "metadata": {
  "kernelspec": {
   "display_name": "venv",
   "language": "python",
   "name": "python3"
  },
  "language_info": {
   "codemirror_mode": {
    "name": "ipython",
    "version": 3
   },
   "file_extension": ".py",
   "mimetype": "text/x-python",
   "name": "python",
   "nbconvert_exporter": "python",
   "pygments_lexer": "ipython3",
   "version": "3.12.10"
  }
 },
 "nbformat": 4,
 "nbformat_minor": 5
}
